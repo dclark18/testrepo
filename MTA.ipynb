{
  "nbformat": 4,
  "nbformat_minor": 0,
  "metadata": {
    "colab": {
      "name": "Untitled1.ipynb",
      "provenance": [],
      "authorship_tag": "ABX9TyNDDu8NXJF8f47qAiftW06b",
      "include_colab_link": true
    },
    "kernelspec": {
      "name": "python3",
      "display_name": "Python 3"
    }
  },
  "cells": [
    {
      "cell_type": "markdown",
      "metadata": {
        "id": "view-in-github",
        "colab_type": "text"
      },
      "source": [
        "<a href=\"https://colab.research.google.com/github/dclark18/testrepo/blob/master/MTA.ipynb\" target=\"_parent\"><img src=\"https://colab.research.google.com/assets/colab-badge.svg\" alt=\"Open In Colab\"/></a>"
      ]
    },
    {
      "cell_type": "code",
      "metadata": {
        "id": "6fNiyQy2MSRH",
        "colab_type": "code",
        "colab": {
          "base_uri": "https://localhost:8080/",
          "height": 453
        },
        "outputId": "73a6271e-7986-4f39-c6d4-5eb59128f483"
      },
      "source": [
        "import pandas as pd\n",
        "\n",
        "#XXX = \n",
        "data = pd.read_csv(r'/Users/daniel.clark1/Desktop/MTA_Correlation_Analysis/Parsed_August_MTA_Data_REV1.csv', )\n",
        "data.info()"
      ],
      "execution_count": 25,
      "outputs": [
        {
          "output_type": "error",
          "ename": "FileNotFoundError",
          "evalue": "ignored",
          "traceback": [
            "\u001b[0;31m---------------------------------------------------------------------------\u001b[0m",
            "\u001b[0;31mFileNotFoundError\u001b[0m                         Traceback (most recent call last)",
            "\u001b[0;32m<ipython-input-25-ab9b43667f5d>\u001b[0m in \u001b[0;36m<module>\u001b[0;34m()\u001b[0m\n\u001b[1;32m      2\u001b[0m \u001b[0;34m\u001b[0m\u001b[0m\n\u001b[1;32m      3\u001b[0m \u001b[0;31m#XXX =\u001b[0m\u001b[0;34m\u001b[0m\u001b[0;34m\u001b[0m\u001b[0;34m\u001b[0m\u001b[0m\n\u001b[0;32m----> 4\u001b[0;31m \u001b[0mdata\u001b[0m \u001b[0;34m=\u001b[0m \u001b[0mpd\u001b[0m\u001b[0;34m.\u001b[0m\u001b[0mread_csv\u001b[0m\u001b[0;34m(\u001b[0m\u001b[0;34mr'/Users/daniel.clark1/Desktop/MTA_Correlation_Analysis/Parsed_August_MTA_Data_REV1.csv'\u001b[0m\u001b[0;34m,\u001b[0m \u001b[0;34m)\u001b[0m\u001b[0;34m\u001b[0m\u001b[0;34m\u001b[0m\u001b[0m\n\u001b[0m\u001b[1;32m      5\u001b[0m \u001b[0mdata\u001b[0m\u001b[0;34m.\u001b[0m\u001b[0minfo\u001b[0m\u001b[0;34m(\u001b[0m\u001b[0;34m)\u001b[0m\u001b[0;34m\u001b[0m\u001b[0;34m\u001b[0m\u001b[0m\n",
            "\u001b[0;32m/usr/local/lib/python3.6/dist-packages/pandas/io/parsers.py\u001b[0m in \u001b[0;36mparser_f\u001b[0;34m(filepath_or_buffer, sep, delimiter, header, names, index_col, usecols, squeeze, prefix, mangle_dupe_cols, dtype, engine, converters, true_values, false_values, skipinitialspace, skiprows, skipfooter, nrows, na_values, keep_default_na, na_filter, verbose, skip_blank_lines, parse_dates, infer_datetime_format, keep_date_col, date_parser, dayfirst, cache_dates, iterator, chunksize, compression, thousands, decimal, lineterminator, quotechar, quoting, doublequote, escapechar, comment, encoding, dialect, error_bad_lines, warn_bad_lines, delim_whitespace, low_memory, memory_map, float_precision)\u001b[0m\n\u001b[1;32m    683\u001b[0m         )\n\u001b[1;32m    684\u001b[0m \u001b[0;34m\u001b[0m\u001b[0m\n\u001b[0;32m--> 685\u001b[0;31m         \u001b[0;32mreturn\u001b[0m \u001b[0m_read\u001b[0m\u001b[0;34m(\u001b[0m\u001b[0mfilepath_or_buffer\u001b[0m\u001b[0;34m,\u001b[0m \u001b[0mkwds\u001b[0m\u001b[0;34m)\u001b[0m\u001b[0;34m\u001b[0m\u001b[0;34m\u001b[0m\u001b[0m\n\u001b[0m\u001b[1;32m    686\u001b[0m \u001b[0;34m\u001b[0m\u001b[0m\n\u001b[1;32m    687\u001b[0m     \u001b[0mparser_f\u001b[0m\u001b[0;34m.\u001b[0m\u001b[0m__name__\u001b[0m \u001b[0;34m=\u001b[0m \u001b[0mname\u001b[0m\u001b[0;34m\u001b[0m\u001b[0;34m\u001b[0m\u001b[0m\n",
            "\u001b[0;32m/usr/local/lib/python3.6/dist-packages/pandas/io/parsers.py\u001b[0m in \u001b[0;36m_read\u001b[0;34m(filepath_or_buffer, kwds)\u001b[0m\n\u001b[1;32m    455\u001b[0m \u001b[0;34m\u001b[0m\u001b[0m\n\u001b[1;32m    456\u001b[0m     \u001b[0;31m# Create the parser.\u001b[0m\u001b[0;34m\u001b[0m\u001b[0;34m\u001b[0m\u001b[0;34m\u001b[0m\u001b[0m\n\u001b[0;32m--> 457\u001b[0;31m     \u001b[0mparser\u001b[0m \u001b[0;34m=\u001b[0m \u001b[0mTextFileReader\u001b[0m\u001b[0;34m(\u001b[0m\u001b[0mfp_or_buf\u001b[0m\u001b[0;34m,\u001b[0m \u001b[0;34m**\u001b[0m\u001b[0mkwds\u001b[0m\u001b[0;34m)\u001b[0m\u001b[0;34m\u001b[0m\u001b[0;34m\u001b[0m\u001b[0m\n\u001b[0m\u001b[1;32m    458\u001b[0m \u001b[0;34m\u001b[0m\u001b[0m\n\u001b[1;32m    459\u001b[0m     \u001b[0;32mif\u001b[0m \u001b[0mchunksize\u001b[0m \u001b[0;32mor\u001b[0m \u001b[0miterator\u001b[0m\u001b[0;34m:\u001b[0m\u001b[0;34m\u001b[0m\u001b[0;34m\u001b[0m\u001b[0m\n",
            "\u001b[0;32m/usr/local/lib/python3.6/dist-packages/pandas/io/parsers.py\u001b[0m in \u001b[0;36m__init__\u001b[0;34m(self, f, engine, **kwds)\u001b[0m\n\u001b[1;32m    893\u001b[0m             \u001b[0mself\u001b[0m\u001b[0;34m.\u001b[0m\u001b[0moptions\u001b[0m\u001b[0;34m[\u001b[0m\u001b[0;34m\"has_index_names\"\u001b[0m\u001b[0;34m]\u001b[0m \u001b[0;34m=\u001b[0m \u001b[0mkwds\u001b[0m\u001b[0;34m[\u001b[0m\u001b[0;34m\"has_index_names\"\u001b[0m\u001b[0;34m]\u001b[0m\u001b[0;34m\u001b[0m\u001b[0;34m\u001b[0m\u001b[0m\n\u001b[1;32m    894\u001b[0m \u001b[0;34m\u001b[0m\u001b[0m\n\u001b[0;32m--> 895\u001b[0;31m         \u001b[0mself\u001b[0m\u001b[0;34m.\u001b[0m\u001b[0m_make_engine\u001b[0m\u001b[0;34m(\u001b[0m\u001b[0mself\u001b[0m\u001b[0;34m.\u001b[0m\u001b[0mengine\u001b[0m\u001b[0;34m)\u001b[0m\u001b[0;34m\u001b[0m\u001b[0;34m\u001b[0m\u001b[0m\n\u001b[0m\u001b[1;32m    896\u001b[0m \u001b[0;34m\u001b[0m\u001b[0m\n\u001b[1;32m    897\u001b[0m     \u001b[0;32mdef\u001b[0m \u001b[0mclose\u001b[0m\u001b[0;34m(\u001b[0m\u001b[0mself\u001b[0m\u001b[0;34m)\u001b[0m\u001b[0;34m:\u001b[0m\u001b[0;34m\u001b[0m\u001b[0;34m\u001b[0m\u001b[0m\n",
            "\u001b[0;32m/usr/local/lib/python3.6/dist-packages/pandas/io/parsers.py\u001b[0m in \u001b[0;36m_make_engine\u001b[0;34m(self, engine)\u001b[0m\n\u001b[1;32m   1133\u001b[0m     \u001b[0;32mdef\u001b[0m \u001b[0m_make_engine\u001b[0m\u001b[0;34m(\u001b[0m\u001b[0mself\u001b[0m\u001b[0;34m,\u001b[0m \u001b[0mengine\u001b[0m\u001b[0;34m=\u001b[0m\u001b[0;34m\"c\"\u001b[0m\u001b[0;34m)\u001b[0m\u001b[0;34m:\u001b[0m\u001b[0;34m\u001b[0m\u001b[0;34m\u001b[0m\u001b[0m\n\u001b[1;32m   1134\u001b[0m         \u001b[0;32mif\u001b[0m \u001b[0mengine\u001b[0m \u001b[0;34m==\u001b[0m \u001b[0;34m\"c\"\u001b[0m\u001b[0;34m:\u001b[0m\u001b[0;34m\u001b[0m\u001b[0;34m\u001b[0m\u001b[0m\n\u001b[0;32m-> 1135\u001b[0;31m             \u001b[0mself\u001b[0m\u001b[0;34m.\u001b[0m\u001b[0m_engine\u001b[0m \u001b[0;34m=\u001b[0m \u001b[0mCParserWrapper\u001b[0m\u001b[0;34m(\u001b[0m\u001b[0mself\u001b[0m\u001b[0;34m.\u001b[0m\u001b[0mf\u001b[0m\u001b[0;34m,\u001b[0m \u001b[0;34m**\u001b[0m\u001b[0mself\u001b[0m\u001b[0;34m.\u001b[0m\u001b[0moptions\u001b[0m\u001b[0;34m)\u001b[0m\u001b[0;34m\u001b[0m\u001b[0;34m\u001b[0m\u001b[0m\n\u001b[0m\u001b[1;32m   1136\u001b[0m         \u001b[0;32melse\u001b[0m\u001b[0;34m:\u001b[0m\u001b[0;34m\u001b[0m\u001b[0;34m\u001b[0m\u001b[0m\n\u001b[1;32m   1137\u001b[0m             \u001b[0;32mif\u001b[0m \u001b[0mengine\u001b[0m \u001b[0;34m==\u001b[0m \u001b[0;34m\"python\"\u001b[0m\u001b[0;34m:\u001b[0m\u001b[0;34m\u001b[0m\u001b[0;34m\u001b[0m\u001b[0m\n",
            "\u001b[0;32m/usr/local/lib/python3.6/dist-packages/pandas/io/parsers.py\u001b[0m in \u001b[0;36m__init__\u001b[0;34m(self, src, **kwds)\u001b[0m\n\u001b[1;32m   1915\u001b[0m         \u001b[0mkwds\u001b[0m\u001b[0;34m[\u001b[0m\u001b[0;34m\"usecols\"\u001b[0m\u001b[0;34m]\u001b[0m \u001b[0;34m=\u001b[0m \u001b[0mself\u001b[0m\u001b[0;34m.\u001b[0m\u001b[0musecols\u001b[0m\u001b[0;34m\u001b[0m\u001b[0;34m\u001b[0m\u001b[0m\n\u001b[1;32m   1916\u001b[0m \u001b[0;34m\u001b[0m\u001b[0m\n\u001b[0;32m-> 1917\u001b[0;31m         \u001b[0mself\u001b[0m\u001b[0;34m.\u001b[0m\u001b[0m_reader\u001b[0m \u001b[0;34m=\u001b[0m \u001b[0mparsers\u001b[0m\u001b[0;34m.\u001b[0m\u001b[0mTextReader\u001b[0m\u001b[0;34m(\u001b[0m\u001b[0msrc\u001b[0m\u001b[0;34m,\u001b[0m \u001b[0;34m**\u001b[0m\u001b[0mkwds\u001b[0m\u001b[0;34m)\u001b[0m\u001b[0;34m\u001b[0m\u001b[0;34m\u001b[0m\u001b[0m\n\u001b[0m\u001b[1;32m   1918\u001b[0m         \u001b[0mself\u001b[0m\u001b[0;34m.\u001b[0m\u001b[0munnamed_cols\u001b[0m \u001b[0;34m=\u001b[0m \u001b[0mself\u001b[0m\u001b[0;34m.\u001b[0m\u001b[0m_reader\u001b[0m\u001b[0;34m.\u001b[0m\u001b[0munnamed_cols\u001b[0m\u001b[0;34m\u001b[0m\u001b[0;34m\u001b[0m\u001b[0m\n\u001b[1;32m   1919\u001b[0m \u001b[0;34m\u001b[0m\u001b[0m\n",
            "\u001b[0;32mpandas/_libs/parsers.pyx\u001b[0m in \u001b[0;36mpandas._libs.parsers.TextReader.__cinit__\u001b[0;34m()\u001b[0m\n",
            "\u001b[0;32mpandas/_libs/parsers.pyx\u001b[0m in \u001b[0;36mpandas._libs.parsers.TextReader._setup_parser_source\u001b[0;34m()\u001b[0m\n",
            "\u001b[0;31mFileNotFoundError\u001b[0m: [Errno 2] File b'/Users/daniel.clark1/Desktop/MTA_Correlation_Analysis/Parsed_August_MTA_Data_REV1.csv' does not exist: b'/Users/daniel.clark1/Desktop/MTA_Correlation_Analysis/Parsed_August_MTA_Data_REV1.csv'"
          ]
        }
      ]
    },
    {
      "cell_type": "code",
      "metadata": {
        "id": "Y5llpRPZz7CR",
        "colab_type": "code",
        "colab": {
          "base_uri": "https://localhost:8080/",
          "height": 219
        },
        "outputId": "50d4f53d-3e19-4cfb-c29d-94de1884e607"
      },
      "source": [
        "import pandas as pd\n",
        "\n",
        "#XXX = \n",
        "data = open('/Users/daniel.clark1/Desktop/MTA_Correlation_Analysis/Parsed_August_MTA_Data_REV1.csv', )\n",
        "print(data.read())"
      ],
      "execution_count": 26,
      "outputs": [
        {
          "output_type": "error",
          "ename": "FileNotFoundError",
          "evalue": "ignored",
          "traceback": [
            "\u001b[0;31m---------------------------------------------------------------------------\u001b[0m",
            "\u001b[0;31mFileNotFoundError\u001b[0m                         Traceback (most recent call last)",
            "\u001b[0;32m<ipython-input-26-75be8ca9fc5d>\u001b[0m in \u001b[0;36m<module>\u001b[0;34m()\u001b[0m\n\u001b[1;32m      2\u001b[0m \u001b[0;34m\u001b[0m\u001b[0m\n\u001b[1;32m      3\u001b[0m \u001b[0;31m#XXX =\u001b[0m\u001b[0;34m\u001b[0m\u001b[0;34m\u001b[0m\u001b[0;34m\u001b[0m\u001b[0m\n\u001b[0;32m----> 4\u001b[0;31m \u001b[0mdata\u001b[0m \u001b[0;34m=\u001b[0m \u001b[0mopen\u001b[0m\u001b[0;34m(\u001b[0m\u001b[0;34m'/Users/daniel.clark1/Desktop/MTA_Correlation_Analysis/Parsed_August_MTA_Data_REV1.csv'\u001b[0m\u001b[0;34m,\u001b[0m \u001b[0;34m)\u001b[0m\u001b[0;34m\u001b[0m\u001b[0;34m\u001b[0m\u001b[0m\n\u001b[0m\u001b[1;32m      5\u001b[0m \u001b[0mprint\u001b[0m\u001b[0;34m(\u001b[0m\u001b[0mdata\u001b[0m\u001b[0;34m.\u001b[0m\u001b[0mread\u001b[0m\u001b[0;34m(\u001b[0m\u001b[0;34m)\u001b[0m\u001b[0;34m)\u001b[0m\u001b[0;34m\u001b[0m\u001b[0;34m\u001b[0m\u001b[0m\n",
            "\u001b[0;31mFileNotFoundError\u001b[0m: [Errno 2] No such file or directory: '/Users/daniel.clark1/Desktop/MTA_Correlation_Analysis/Parsed_August_MTA_Data_REV1.csv'"
          ]
        }
      ]
    },
    {
      "cell_type": "code",
      "metadata": {
        "id": "ZpQvH1MUNtbC",
        "colab_type": "code",
        "colab": {
          "base_uri": "https://localhost:8080/",
          "height": 55
        },
        "outputId": "2110cc4e-fa54-4c0c-8ee3-22d5f2eac56b"
      },
      "source": [
        "url_dataset = 'https://drive.google.com/open?id=1W04Ww5jVvt_WcCGLIWULmw5YTDLYMHKV'\n",
        "df = pd.read_csv(url_dataset, error_bad_lines=False)"
      ],
      "execution_count": 31,
      "outputs": [
        {
          "output_type": "stream",
          "text": [
            "b'Skipping line 6: expected 1 fields, saw 2\\nSkipping line 7: expected 1 fields, saw 3\\nSkipping line 15: expected 1 fields, saw 3\\nSkipping line 21: expected 1 fields, saw 3\\nSkipping line 25: expected 1 fields, saw 2\\nSkipping line 42: expected 1 fields, saw 2\\nSkipping line 43: expected 1 fields, saw 2\\nSkipping line 56: expected 1 fields, saw 2\\nSkipping line 57: expected 1 fields, saw 2\\nSkipping line 59: expected 1 fields, saw 2\\nSkipping line 62: expected 1 fields, saw 2\\nSkipping line 63: expected 1 fields, saw 2\\nSkipping line 84: expected 1 fields, saw 2\\nSkipping line 85: expected 1 fields, saw 2\\nSkipping line 86: expected 1 fields, saw 2\\nSkipping line 87: expected 1 fields, saw 2\\nSkipping line 88: expected 1 fields, saw 2\\nSkipping line 109: expected 1 fields, saw 2\\nSkipping line 110: expected 1 fields, saw 2\\nSkipping line 111: expected 1 fields, saw 2\\nSkipping line 112: expected 1 fields, saw 2\\nSkipping line 113: expected 1 fields, saw 2\\nSkipping line 117: expected 1 fields, saw 4\\nSkipping line 118: expected 1 fields, saw 4\\nSkipping line 119: expected 1 fields, saw 4\\nSkipping line 121: expected 1 fields, saw 2\\nSkipping line 122: expected 1 fields, saw 2\\nSkipping line 123: expected 1 fields, saw 2\\nSkipping line 124: expected 1 fields, saw 2\\nSkipping line 125: expected 1 fields, saw 2\\nSkipping line 129: expected 1 fields, saw 4\\nSkipping line 130: expected 1 fields, saw 4\\nSkipping line 131: expected 1 fields, saw 4\\nSkipping line 133: expected 1 fields, saw 2\\nSkipping line 152: expected 1 fields, saw 2\\nSkipping line 158: expected 1 fields, saw 4\\nSkipping line 159: expected 1 fields, saw 4\\nSkipping line 160: expected 1 fields, saw 4\\nSkipping line 169: expected 1 fields, saw 2\\nSkipping line 204: expected 1 fields, saw 2\\nSkipping line 205: expected 1 fields, saw 4\\nSkipping line 211: expected 1 fields, saw 2\\nSkipping line 212: expected 1 fields, saw 2\\nSkipping line 213: expected 1 fields, saw 2\\nSkipping line 214: expected 1 fields, saw 2\\nSkipping line 215: expected 1 fields, saw 2\\nSkipping line 216: expected 1 fields, saw 2\\nSkipping line 262: expected 1 fields, saw 2\\nSkipping line 375: expected 1 fields, saw 4\\nSkipping line 376: expected 1 fields, saw 4\\nSkipping line 377: expected 1 fields, saw 4\\nSkipping line 382: expected 1 fields, saw 2\\nSkipping line 402: expected 1 fields, saw 3\\nSkipping line 403: expected 1 fields, saw 3\\nSkipping line 404: expected 1 fields, saw 3\\nSkipping line 405: expected 1 fields, saw 3\\nSkipping line 406: expected 1 fields, saw 3\\nSkipping line 417: expected 1 fields, saw 2\\nSkipping line 433: expected 1 fields, saw 3\\nSkipping line 434: expected 1 fields, saw 3\\nSkipping line 435: expected 1 fields, saw 3\\nSkipping line 436: expected 1 fields, saw 3\\nSkipping line 437: expected 1 fields, saw 3\\nSkipping line 438: expected 1 fields, saw 4\\nSkipping line 439: expected 1 fields, saw 4\\nSkipping line 440: expected 1 fields, saw 4\\nSkipping line 444: expected 1 fields, saw 3\\nSkipping line 445: expected 1 fields, saw 3\\nSkipping line 446: expected 1 fields, saw 3\\nSkipping line 447: expected 1 fields, saw 3\\nSkipping line 448: expected 1 fields, saw 3\\nSkipping line 449: expected 1 fields, saw 4\\nSkipping line 450: expected 1 fields, saw 4\\nSkipping line 451: expected 1 fields, saw 4\\nSkipping line 453: expected 1 fields, saw 2\\nSkipping line 457: expected 1 fields, saw 4\\nSkipping line 459: expected 1 fields, saw 3\\nSkipping line 460: expected 1 fields, saw 3\\nSkipping line 461: expected 1 fields, saw 3\\nSkipping line 462: expected 1 fields, saw 3\\nSkipping line 463: expected 1 fields, saw 3\\nSkipping line 468: expected 1 fields, saw 4\\nSkipping line 470: expected 1 fields, saw 3\\nSkipping line 471: expected 1 fields, saw 3\\nSkipping line 472: expected 1 fields, saw 3\\nSkipping line 473: expected 1 fields, saw 3\\nSkipping line 474: expected 1 fields, saw 3\\nSkipping line 478: expected 1 fields, saw 3\\nSkipping line 479: expected 1 fields, saw 3\\nSkipping line 480: expected 1 fields, saw 3\\nSkipping line 481: expected 1 fields, saw 3\\nSkipping line 482: expected 1 fields, saw 3\\nSkipping line 483: expected 1 fields, saw 4\\nSkipping line 484: expected 1 fields, saw 4\\nSkipping line 485: expected 1 fields, saw 4\\nSkipping line 487: expected 1 fields, saw 2\\nSkipping line 491: expected 1 fields, saw 4\\nSkipping line 493: expected 1 fields, saw 3\\nSkipping line 494: expected 1 fields, saw 3\\nSkipping line 495: expected 1 fields, saw 3\\nSkipping line 496: expected 1 fields, saw 3\\nSkipping line 497: expected 1 fields, saw 3\\nSkipping line 502: expected 1 fields, saw 4\\nSkipping line 504: expected 1 fields, saw 3\\nSkipping line 505: expected 1 fields, saw 3\\nSkipping line 506: expected 1 fields, saw 3\\nSkipping line 507: expected 1 fields, saw 3\\nSkipping line 508: expected 1 fields, saw 3\\nSkipping line 513: expected 1 fields, saw 3\\nSkipping line 514: expected 1 fields, saw 3\\nSkipping line 515: expected 1 fields, saw 3\\nSkipping line 516: expected 1 fields, saw 3\\nSkipping line 517: expected 1 fields, saw 3\\nSkipping line 518: expected 1 fields, saw 4\\nSkipping line 519: expected 1 fields, saw 4\\nSkipping line 520: expected 1 fields, saw 4\\nSkipping line 526: expected 1 fields, saw 2\\nSkipping line 538: expected 1 fields, saw 2\\nSkipping line 565: expected 1 fields, saw 4\\nSkipping line 591: expected 1 fields, saw 2\\nSkipping line 600: expected 1 fields, saw 2\\nSkipping line 633: expected 1 fields, saw 2\\nSkipping line 634: expected 1 fields, saw 2\\nSkipping line 635: expected 1 fields, saw 2\\nSkipping line 646: expected 1 fields, saw 2\\nSkipping line 647: expected 1 fields, saw 2\\nSkipping line 680: expected 1 fields, saw 2\\nSkipping line 694: expected 1 fields, saw 2\\nSkipping line 702: expected 1 fields, saw 2\\nSkipping line 712: expected 1 fields, saw 2\\nSkipping line 716: expected 1 fields, saw 2\\nSkipping line 717: expected 1 fields, saw 2\\nSkipping line 718: expected 1 fields, saw 2\\nSkipping line 741: expected 1 fields, saw 4\\nSkipping line 759: expected 1 fields, saw 2\\nSkipping line 760: expected 1 fields, saw 2\\nSkipping line 761: expected 1 fields, saw 2\\nSkipping line 782: expected 1 fields, saw 4\\nSkipping line 783: expected 1 fields, saw 4\\nSkipping line 784: expected 1 fields, saw 4\\nSkipping line 803: expected 1 fields, saw 2\\nSkipping line 831: expected 1 fields, saw 2\\nSkipping line 858: expected 1 fields, saw 2\\nSkipping line 865: expected 1 fields, saw 2\\nSkipping line 882: expected 1 fields, saw 2\\nSkipping line 887: expected 1 fields, saw 2\\nSkipping line 916: expected 1 fields, saw 2\\nSkipping line 986: expected 1 fields, saw 2\\nSkipping line 989: expected 1 fields, saw 2\\nSkipping line 990: expected 1 fields, saw 2\\nSkipping line 991: expected 1 fields, saw 2\\nSkipping line 992: expected 1 fields, saw 2\\nSkipping line 993: expected 1 fields, saw 2\\nSkipping line 999: expected 1 fields, saw 4\\nSkipping line 1000: expected 1 fields, saw 4\\nSkipping line 1001: expected 1 fields, saw 4\\nSkipping line 1002: expected 1 fields, saw 4\\nSkipping line 1003: expected 1 fields, saw 4\\nSkipping line 1006: expected 1 fields, saw 3\\nSkipping line 1007: expected 1 fields, saw 3\\nSkipping line 1008: expected 1 fields, saw 3\\nSkipping line 1009: expected 1 fields, saw 3\\nSkipping line 1010: expected 1 fields, saw 3\\nSkipping line 1014: expected 1 fields, saw 3\\nSkipping line 1015: expected 1 fields, saw 3\\nSkipping line 1016: expected 1 fields, saw 3\\nSkipping line 1017: expected 1 fields, saw 3\\nSkipping line 1018: expected 1 fields, saw 3\\nSkipping line 1021: expected 1 fields, saw 3\\nSkipping line 1022: expected 1 fields, saw 3\\nSkipping line 1023: expected 1 fields, saw 3\\nSkipping line 1024: expected 1 fields, saw 3\\nSkipping line 1025: expected 1 fields, saw 3\\nSkipping line 1029: expected 1 fields, saw 3\\nSkipping line 1030: expected 1 fields, saw 3\\nSkipping line 1031: expected 1 fields, saw 3\\nSkipping line 1032: expected 1 fields, saw 3\\nSkipping line 1033: expected 1 fields, saw 3\\nSkipping line 1036: expected 1 fields, saw 3\\nSkipping line 1037: expected 1 fields, saw 3\\nSkipping line 1038: expected 1 fields, saw 3\\nSkipping line 1039: expected 1 fields, saw 3\\nSkipping line 1040: expected 1 fields, saw 3\\nSkipping line 1101: expected 1 fields, saw 3\\nSkipping line 1150: expected 1 fields, saw 4\\nSkipping line 1151: expected 1 fields, saw 4\\nSkipping line 1152: expected 1 fields, saw 4\\nSkipping line 1153: expected 1 fields, saw 4\\nSkipping line 1154: expected 1 fields, saw 4\\nSkipping line 1680: expected 1 fields, saw 2\\nSkipping line 1683: expected 1 fields, saw 3\\nSkipping line 1693: expected 1 fields, saw 2\\nSkipping line 1706: expected 1 fields, saw 2\\nSkipping line 1713: expected 1 fields, saw 2\\nSkipping line 1715: expected 1 fields, saw 2\\nSkipping line 1716: expected 1 fields, saw 2\\nSkipping line 1721: expected 1 fields, saw 2\\nSkipping line 1722: expected 1 fields, saw 2\\nSkipping line 1723: expected 1 fields, saw 2\\nSkipping line 1755: expected 1 fields, saw 2\\nSkipping line 1759: expected 1 fields, saw 2\\nSkipping line 1773: expected 1 fields, saw 3\\nSkipping line 1775: expected 1 fields, saw 3\\nSkipping line 1777: expected 1 fields, saw 2\\nSkipping line 1781: expected 1 fields, saw 983\\nSkipping line 1841: expected 1 fields, saw 2\\nSkipping line 1872: expected 1 fields, saw 3\\nSkipping line 1877: expected 1 fields, saw 9\\nSkipping line 1878: expected 1 fields, saw 7\\nSkipping line 1879: expected 1 fields, saw 27\\nSkipping line 1880: expected 1 fields, saw 3\\nSkipping line 1883: expected 1 fields, saw 2\\nSkipping line 1884: expected 1 fields, saw 2\\n'\n"
          ],
          "name": "stderr"
        }
      ]
    },
    {
      "cell_type": "code",
      "metadata": {
        "id": "xiRs6nPxOMqb",
        "colab_type": "code",
        "colab": {
          "base_uri": "https://localhost:8080/",
          "height": 415
        },
        "outputId": "634a862e-1c96-4ea3-d22c-cddf8335aff6"
      },
      "source": [
        "df"
      ],
      "execution_count": 32,
      "outputs": [
        {
          "output_type": "execute_result",
          "data": {
            "text/html": [
              "<div>\n",
              "<style scoped>\n",
              "    .dataframe tbody tr th:only-of-type {\n",
              "        vertical-align: middle;\n",
              "    }\n",
              "\n",
              "    .dataframe tbody tr th {\n",
              "        vertical-align: top;\n",
              "    }\n",
              "\n",
              "    .dataframe thead th {\n",
              "        text-align: right;\n",
              "    }\n",
              "</style>\n",
              "<table border=\"1\" class=\"dataframe\">\n",
              "  <thead>\n",
              "    <tr style=\"text-align: right;\">\n",
              "      <th></th>\n",
              "      <th>&lt;!DOCTYPE html&gt;</th>\n",
              "    </tr>\n",
              "  </thead>\n",
              "  <tbody>\n",
              "    <tr>\n",
              "      <th>0</th>\n",
              "      <td>&lt;html lang=\"en\"&gt;</td>\n",
              "    </tr>\n",
              "    <tr>\n",
              "      <th>1</th>\n",
              "      <td>&lt;head&gt;</td>\n",
              "    </tr>\n",
              "    <tr>\n",
              "      <th>2</th>\n",
              "      <td>&lt;meta charset=\"utf-8\"&gt;</td>\n",
              "    </tr>\n",
              "    <tr>\n",
              "      <th>3</th>\n",
              "      <td>&lt;meta name=\"google-site-verification\" conten...</td>\n",
              "    </tr>\n",
              "    <tr>\n",
              "      <th>4</th>\n",
              "      <td>&lt;title&gt;Meet Google Drive – One place for all...</td>\n",
              "    </tr>\n",
              "    <tr>\n",
              "      <th>...</th>\n",
              "      <td>...</td>\n",
              "    </tr>\n",
              "    <tr>\n",
              "      <th>1641</th>\n",
              "      <td>&lt;script type=\"text/javascript\" nonce=\"1WxqSW...</td>\n",
              "    </tr>\n",
              "    <tr>\n",
              "      <th>1642</th>\n",
              "      <td>'https:\\x2F\\x2Faccounts.google.com\\x2FPassiv...</td>\n",
              "    </tr>\n",
              "    <tr>\n",
              "      <th>1643</th>\n",
              "      <td>&lt;/script&gt;</td>\n",
              "    </tr>\n",
              "    <tr>\n",
              "      <th>1644</th>\n",
              "      <td>&lt;/body&gt;</td>\n",
              "    </tr>\n",
              "    <tr>\n",
              "      <th>1645</th>\n",
              "      <td>&lt;/html&gt;</td>\n",
              "    </tr>\n",
              "  </tbody>\n",
              "</table>\n",
              "<p>1646 rows × 1 columns</p>\n",
              "</div>"
            ],
            "text/plain": [
              "                                        <!DOCTYPE html>\n",
              "0                                      <html lang=\"en\">\n",
              "1                                                <head>\n",
              "2                                <meta charset=\"utf-8\">\n",
              "3       <meta name=\"google-site-verification\" conten...\n",
              "4       <title>Meet Google Drive – One place for all...\n",
              "...                                                 ...\n",
              "1641    <script type=\"text/javascript\" nonce=\"1WxqSW...\n",
              "1642    'https:\\x2F\\x2Faccounts.google.com\\x2FPassiv...\n",
              "1643                                          </script>\n",
              "1644                                            </body>\n",
              "1645                                            </html>\n",
              "\n",
              "[1646 rows x 1 columns]"
            ]
          },
          "metadata": {
            "tags": []
          },
          "execution_count": 32
        }
      ]
    },
    {
      "cell_type": "markdown",
      "metadata": {
        "id": "-WBeJz10NtQ3",
        "colab_type": "text"
      },
      "source": [
        ""
      ]
    }
  ]
}